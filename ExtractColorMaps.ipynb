{
 "cells": [
  {
   "cell_type": "code",
   "execution_count": 1,
   "id": "d5e2e7a9",
   "metadata": {},
   "outputs": [],
   "source": [
    "import numpy as np\n",
    "import matplotlib as mpl\n",
    "import matplotlib.pyplot as plt\n",
    "from matplotlib import cm\n",
    "import ast\n",
    "import uuid"
   ]
  },
  {
   "cell_type": "markdown",
   "id": "421f9fa5",
   "metadata": {},
   "source": [
    "THIS SCRIPT WILL WRITE AN XML FILE THAT YOU CAN PLACE IN YOUR GRASSHOPPER SETTINGS FOLDER TO GET NICE GRADIENTS"
   ]
  },
  {
   "cell_type": "code",
   "execution_count": 2,
   "id": "49c74a30",
   "metadata": {},
   "outputs": [],
   "source": [
    "#All available colormaps in matplotlib. \n",
    "pus = ['viridis', 'plasma', 'inferno', 'magma', 'cividis']\n",
    "seq1 = ['Greys', 'Purples', 'Blues', 'Greens', 'Oranges', 'Reds',\n",
    "                      'YlOrBr', 'YlOrRd', 'OrRd', 'PuRd', 'RdPu', 'BuPu',\n",
    "                      'GnBu', 'PuBu', 'YlGnBu', 'PuBuGn', 'BuGn', 'YlGn']\n",
    "seq2 =  ['binary', 'gist_yarg', 'gist_gray', 'gray', 'bone',\n",
    "                      'pink', 'spring', 'summer', 'autumn', 'winter', 'cool',\n",
    "                      'Wistia', 'hot', 'afmhot', 'gist_heat', 'copper']\n",
    "div = ['PiYG', 'PRGn', 'BrBG', 'PuOr', 'RdGy', 'RdBu', 'RdYlBu',\n",
    "                      'RdYlGn', 'Spectral', 'coolwarm', 'bwr', 'seismic']\n",
    "cyclic = ['twilight', 'twilight_shifted', 'hsv']\n",
    "misc = ['flag', 'prism', 'ocean', 'gist_earth', 'terrain',\n",
    "                      'gist_stern', 'gnuplot', 'gnuplot2', 'CMRmap',\n",
    "                      'cubehelix', 'brg', 'gist_rainbow', 'rainbow', 'jet',\n",
    "                      'turbo', 'nipy_spectral', 'gist_ncar']\n",
    "\n",
    "names = pus+seq1+seq2+div+cyclic+misc"
   ]
  },
  {
   "cell_type": "code",
   "execution_count": 3,
   "id": "23fc7f81-ef76-4956-9295-24d2560b8166",
   "metadata": {},
   "outputs": [],
   "source": [
    "#Color maps that we actually want to use\n",
    "pus = ['viridis', 'plasma', 'inferno', 'magma', 'cividis']\n",
    "seq1 = ['Blues', 'Greens', 'YlGnBu']\n",
    "seq2 =  ['binary', 'bone',\n",
    "                      'pink', 'spring', 'summer', 'autumn', 'winter', 'cool',\n",
    "                      'Wistia', 'hot', 'copper']\n",
    "div = ['PiYG', 'PRGn', 'Spectral', 'coolwarm', 'bwr', 'seismic']\n",
    "cyclic = []\n",
    "misc = [ 'ocean', \n",
    "                      'turbo', ]\n",
    "\n",
    "names = pus+seq1+seq2+div+cyclic+misc"
   ]
  },
  {
   "cell_type": "code",
   "execution_count": 4,
   "id": "ead0860b-869e-43ca-b823-d89a87577944",
   "metadata": {},
   "outputs": [],
   "source": [
    "allcolors = []\n",
    "noOfDiv = 2**3\n",
    "for cmap in names:\n",
    "    colormaplist = plt.get_cmap(cmap)\n",
    "    colors = []\n",
    "    for i in range(int(256/(noOfDiv))+1):\n",
    "        color = list(colormaplist(i*noOfDiv))\n",
    "        color = [round(num, 5) for num in color]\n",
    "        colors.append(color)\n",
    "    allcolors.append(colors)"
   ]
  },
  {
   "cell_type": "code",
   "execution_count": 5,
   "id": "86ee9453-6a07-4110-aa91-857bcbb9d079",
   "metadata": {},
   "outputs": [],
   "source": [
    "str0 = \"\"\"\n",
    "<Fragment name=\"Settings\">\n",
    "  <items count=\"XXX\">\n",
    "\"\"\"\n",
    "str0 = str0.replace(\"XXX\",str(len(allcolors)))\n",
    "\n"
   ]
  },
  {
   "cell_type": "code",
   "execution_count": 6,
   "id": "710b84d4-6d53-4ab7-9515-8ed26d685ed1",
   "metadata": {},
   "outputs": [],
   "source": [
    "str1 = \"\"\"    <item name=\"preset:INDEX\" type_name=\"gh_string\" type_code=\"10\">&lt;Fragment name=\"gradient\"&gt;\n",
    "  &lt;items count=\"3\"&gt;\n",
    "    &lt;item name=\"GripCount\" type_name=\"gh_int32\" type_code=\"3\"&gt;GRIPCOUNT&lt;/item&gt;\n",
    "    &lt;item name=\"Linear\" type_name=\"gh_bool\" type_code=\"1\"&gt;false&lt;/item&gt;\n",
    "    &lt;item name=\"Locked\" type_name=\"gh_bool\" type_code=\"1\"&gt;false&lt;/item&gt;\n",
    "  &lt;/items&gt;\n",
    "  &lt;chunks count=\"TOTALCOUNT\"&gt;\n",
    "    XXX\n",
    "  &lt;/chunks&gt;\n",
    "&lt;/Fragment&gt;</item>\"\"\""
   ]
  },
  {
   "cell_type": "code",
   "execution_count": 7,
   "id": "eac0bd05-38a9-4d3d-9f9e-899d22b68dd0",
   "metadata": {},
   "outputs": [],
   "source": [
    "str2 =\"\"\"&lt;chunk name=\"Grip\" index=\"COLORINDEX\"&gt;\n",
    "      &lt;items count=\"4\"&gt;\n",
    "        &lt;item name=\"Colour\" index=\"0\" type_name=\"gh_drawing_color\" type_code=\"36\"&gt;\n",
    "          &lt;ARGB&gt;255;RRR;GGG;BBB&lt;/ARGB&gt;\n",
    "        &lt;/item&gt;\n",
    "        &lt;item name=\"Colour\" index=\"1\" type_name=\"gh_drawing_color\" type_code=\"36\"&gt;\n",
    "          &lt;ARGB&gt;255;RRR;GGG;BBB&lt;/ARGB&gt;\n",
    "        &lt;/item&gt;\n",
    "        &lt;item name=\"Factor\" type_name=\"gh_double\" type_code=\"6\"&gt;LOCATION&lt;/item&gt;\n",
    "        &lt;item name=\"Id\" type_name=\"gh_guid\" type_code=\"9\"&gt;GUIDGUID&lt;/item&gt;\n",
    "      &lt;/items&gt;\n",
    "    &lt;/chunk&gt;\n",
    "    XXX\"\"\""
   ]
  },
  {
   "cell_type": "code",
   "execution_count": 8,
   "id": "ff8a8f62-723a-45f8-9c2f-48987177898d",
   "metadata": {},
   "outputs": [],
   "source": [
    "str3=\"\"\"  </items>\n",
    "</Fragment>\"\"\""
   ]
  },
  {
   "cell_type": "code",
   "execution_count": 9,
   "id": "2f9b6414-7884-4f6a-b45a-382e21e75b61",
   "metadata": {},
   "outputs": [],
   "source": [
    "outStr =\"\"\n",
    "for i,c in enumerate(allcolors):\n",
    "    tempString = str1\n",
    "    tempString = tempString.replace(\"INDEX\",str(i))\n",
    "    tempString = tempString.replace(\"TOTALCOUNT\",str(len(c)))\n",
    "    tempString = tempString.replace(\"GRIPCOUNT\",str(len(c)))\n",
    "    for j,color in enumerate(c):\n",
    "        tempString2 = str2\n",
    "        tempString2 = tempString2.replace(\"RRR\",str(int(255*color[0])))\n",
    "        tempString2 = tempString2.replace(\"GGG\",str(int(255*color[1])))\n",
    "        tempString2 = tempString2.replace(\"BBB\",str(int(255*color[2])))\n",
    "        tempString2 = tempString2.replace(\"LOCATION\",str(j/(len(c)-1)))\n",
    "        tempString2 = tempString2.replace(\"COLORINDEX\",str(j))\n",
    "        tempString2 = tempString2.replace(\"GUIDGUID\",str(uuid.uuid4()))\n",
    "        tempString = tempString.replace(\"XXX\",tempString2)\n",
    "    tempString = tempString.replace(\"XXX\",\"\")\n",
    "    outStr +=tempString\n",
    "outStr = str0 + outStr+ str3\n"
   ]
  },
  {
   "cell_type": "code",
   "execution_count": 10,
   "id": "5bbf42f1-a461-45b1-a855-cfed9f57abc9",
   "metadata": {},
   "outputs": [],
   "source": [
    "f = open(\"grasshopper_gradients.xml\", \"w\")\n",
    "f.write(outStr)\n",
    "f.close()"
   ]
  },
  {
   "cell_type": "code",
   "execution_count": null,
   "id": "0d2908de",
   "metadata": {},
   "outputs": [],
   "source": []
  }
 ],
 "metadata": {
  "kernelspec": {
   "display_name": "Python 3 (ipykernel)",
   "language": "python",
   "name": "python3"
  },
  "language_info": {
   "codemirror_mode": {
    "name": "ipython",
    "version": 3
   },
   "file_extension": ".py",
   "mimetype": "text/x-python",
   "name": "python",
   "nbconvert_exporter": "python",
   "pygments_lexer": "ipython3",
   "version": "3.9.7"
  }
 },
 "nbformat": 4,
 "nbformat_minor": 5
}
